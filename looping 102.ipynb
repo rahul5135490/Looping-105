{
 "cells": [
  {
   "cell_type": "code",
   "execution_count": 1,
   "id": "f5b27a77",
   "metadata": {},
   "outputs": [
    {
     "name": "stdout",
     "output_type": "stream",
     "text": [
      "R\n",
      "u\n",
      "b\n",
      "a\n",
      "l\n",
      "The loop skipped space\n",
      "B\n",
      "a\n",
      "n\n",
      "s\n",
      "a\n",
      "l\n"
     ]
    }
   ],
   "source": [
    "text=\"Rubal Bansal\"\n",
    "for letter in text:\n",
    "    if letter==\" \":\n",
    "        print(\"The loop skipped space\")\n",
    "        continue\n",
    "    print(letter)"
   ]
  },
  {
   "cell_type": "code",
   "execution_count": 2,
   "id": "70a7d482",
   "metadata": {},
   "outputs": [
    {
     "name": "stdout",
     "output_type": "stream",
     "text": [
      "2\n",
      "4\n",
      "6\n",
      "7\n"
     ]
    }
   ],
   "source": [
    "l1=[2,4,6,7]\n",
    "for l in l1:\n",
    "    print(l)"
   ]
  },
  {
   "cell_type": "code",
   "execution_count": 3,
   "id": "be1ca60a",
   "metadata": {},
   "outputs": [
    {
     "name": "stdout",
     "output_type": "stream",
     "text": [
      "R\n",
      "u\n",
      "b\n",
      "a\n",
      "l\n",
      "The loop skipped space\n",
      "B\n",
      "a\n",
      "n\n",
      "s\n",
      "a\n",
      "l\n"
     ]
    }
   ],
   "source": [
    "text=\"Rubal Bansal\"\n",
    "for letter in text:\n",
    "    if letter==\" \":\n",
    "        print(\"The loop skipped space\")\n",
    "        continue\n",
    "    print(letter)"
   ]
  },
  {
   "cell_type": "code",
   "execution_count": 4,
   "id": "541b8a3c",
   "metadata": {},
   "outputs": [
    {
     "name": "stdout",
     "output_type": "stream",
     "text": [
      "apple\n",
      "apple\n",
      "apple\n",
      "apple\n",
      "apple\n",
      "apple\n",
      "apple\n",
      "apple\n",
      "apple\n",
      "apple\n",
      "apple\n"
     ]
    }
   ],
   "source": [
    "l1=[2,4,6,7,88,90,67,76,56,77,98]\n",
    "for l in l1:\n",
    "    print(\"apple\")"
   ]
  },
  {
   "cell_type": "code",
   "execution_count": 5,
   "id": "59bd2d01",
   "metadata": {},
   "outputs": [
    {
     "name": "stdout",
     "output_type": "stream",
     "text": [
      "4\n",
      "6\n",
      "8\n",
      "9\n",
      "90\n",
      "92\n",
      "69\n",
      "78\n",
      "58\n",
      "79\n",
      "100\n"
     ]
    }
   ],
   "source": [
    "for x in l1:\n",
    "    print(x+2)"
   ]
  },
  {
   "cell_type": "code",
   "execution_count": 6,
   "id": "194b0bef",
   "metadata": {},
   "outputs": [
    {
     "name": "stdout",
     "output_type": "stream",
     "text": [
      "4\n",
      "16\n",
      "36\n",
      "49\n",
      "7744\n",
      "8100\n",
      "4489\n",
      "5776\n",
      "3136\n",
      "5929\n",
      "9604\n"
     ]
    }
   ],
   "source": [
    "for x in l1:\n",
    "    print(x**2)"
   ]
  },
  {
   "cell_type": "code",
   "execution_count": 7,
   "id": "b1e87ef7",
   "metadata": {},
   "outputs": [
    {
     "name": "stdout",
     "output_type": "stream",
     "text": [
      "2\n",
      "4\n",
      "6\n",
      "88\n",
      "90\n",
      "76\n",
      "56\n",
      "98\n"
     ]
    }
   ],
   "source": [
    "for x in l1:\n",
    "    if x%2 ==0:\n",
    "        print(x)"
   ]
  },
  {
   "cell_type": "code",
   "execution_count": 8,
   "id": "dee75006",
   "metadata": {},
   "outputs": [
    {
     "name": "stdout",
     "output_type": "stream",
     "text": [
      "Even=2\n",
      "Even=4\n",
      "Even=6\n",
      "Odd=7\n",
      "Even=88\n",
      "Even=90\n",
      "Odd=67\n",
      "Even=76\n",
      "Even=56\n",
      "Odd=77\n",
      "Even=98\n"
     ]
    }
   ],
   "source": [
    "for x in l1:\n",
    "    if x%2 ==0:\n",
    "        print(\"Even={}\".format(x))\n",
    "    else:\n",
    "        print(\"Odd={}\".format(x))"
   ]
  },
  {
   "cell_type": "code",
   "execution_count": 9,
   "id": "6321215e",
   "metadata": {},
   "outputs": [],
   "source": [
    "###x=0\n",
    "#while x<3:\n",
    "#    print(\"X is =\".format(x))"
   ]
  },
  {
   "cell_type": "code",
   "execution_count": 10,
   "id": "6fdec702",
   "metadata": {},
   "outputs": [
    {
     "name": "stdout",
     "output_type": "stream",
     "text": [
      "X is =0\n",
      "X is =1\n",
      "X is =2\n"
     ]
    }
   ],
   "source": [
    "x=0\n",
    "\n",
    "while x<3:\n",
    "    print(\"X is ={}\".format(x))\n",
    "    x= x + 1\n",
    "    "
   ]
  },
  {
   "cell_type": "code",
   "execution_count": 11,
   "id": "1ce44415",
   "metadata": {},
   "outputs": [
    {
     "name": "stdout",
     "output_type": "stream",
     "text": [
      "X is =1\n",
      "X is =2\n",
      "X is =3\n"
     ]
    }
   ],
   "source": [
    "x=0\n",
    "\n",
    "while x<3:\n",
    "    x= x + 1\n",
    "    print(\"X is ={}\".format(x))\n",
    "  \n",
    "    "
   ]
  },
  {
   "cell_type": "code",
   "execution_count": 12,
   "id": "e3f74bf1",
   "metadata": {},
   "outputs": [
    {
     "name": "stdout",
     "output_type": "stream",
     "text": [
      "positive number\n"
     ]
    }
   ],
   "source": [
    "number=7\n",
    "\n",
    "if number>=0:\n",
    "    print(\"positive number\")\n",
    "else:\n",
    "    print(\"negative number\")"
   ]
  },
  {
   "cell_type": "code",
   "execution_count": 13,
   "id": "d2706706",
   "metadata": {},
   "outputs": [
    {
     "name": "stdout",
     "output_type": "stream",
     "text": [
      "negative number\n"
     ]
    }
   ],
   "source": [
    "number=-7\n",
    "\n",
    "if number>=0:\n",
    "    print(\"positive number\")\n",
    "else:\n",
    "    print(\"negative number\")"
   ]
  },
  {
   "cell_type": "code",
   "execution_count": 14,
   "id": "9d585c49",
   "metadata": {},
   "outputs": [
    {
     "name": "stdout",
     "output_type": "stream",
     "text": [
      "enter your number9\n",
      "positive number\n"
     ]
    }
   ],
   "source": [
    "number=float(input(\"enter your number\"))\n",
    "\n",
    "if number>=0:\n",
    "    print(\"positive number\")\n",
    "else:\n",
    "    print(\"negative number\")"
   ]
  },
  {
   "cell_type": "code",
   "execution_count": 15,
   "id": "fd077ab2",
   "metadata": {},
   "outputs": [
    {
     "name": "stdout",
     "output_type": "stream",
     "text": [
      "our summation is 15\n"
     ]
    }
   ],
   "source": [
    "list1=[1,2,3,4,5]\n",
    "\n",
    "summed_list=0\n",
    "\n",
    "for x in list1:\n",
    "    summed_list=summed_list+x\n",
    "print(\"our summation is\", summed_list)"
   ]
  },
  {
   "cell_type": "code",
   "execution_count": null,
   "id": "779a47ee",
   "metadata": {},
   "outputs": [],
   "source": []
  }
 ],
 "metadata": {
  "kernelspec": {
   "display_name": "Python 3 (ipykernel)",
   "language": "python",
   "name": "python3"
  },
  "language_info": {
   "codemirror_mode": {
    "name": "ipython",
    "version": 3
   },
   "file_extension": ".py",
   "mimetype": "text/x-python",
   "name": "python",
   "nbconvert_exporter": "python",
   "pygments_lexer": "ipython3",
   "version": "3.9.13"
  }
 },
 "nbformat": 4,
 "nbformat_minor": 5
}
